{
 "cells": [
  {
   "cell_type": "code",
   "execution_count": 1,
   "id": "952de438",
   "metadata": {},
   "outputs": [],
   "source": [
    "from mlwpy import *\n"
   ]
  },
  {
   "cell_type": "code",
   "execution_count": 2,
   "id": "56b00aad",
   "metadata": {},
   "outputs": [],
   "source": [
    "%matplotlib inline"
   ]
  },
  {
   "cell_type": "code",
   "execution_count": 3,
   "id": "d845627c",
   "metadata": {},
   "outputs": [],
   "source": [
    "def axis_helper(ax, lims):\n",
    "    'clean up axes'\n",
    "    ax.set_xlim(lims); ax.set_xticks([])\n",
    "    ax.set_ylim(lims); ax.set_yticks([])\n",
    "    ax.set_aspect('equal')"
   ]
  },
  {
   "cell_type": "code",
   "execution_count": 4,
   "id": "64048e65",
   "metadata": {},
   "outputs": [],
   "source": [
    "D = np.array([[3,5],[4,2]])"
   ]
  },
  {
   "cell_type": "code",
   "execution_count": 5,
   "id": "6e4adaf6",
   "metadata": {},
   "outputs": [],
   "source": [
    "x, y = D[:,0], D[:,1]"
   ]
  },
  {
   "cell_type": "code",
   "execution_count": 6,
   "id": "0bf6a105",
   "metadata": {},
   "outputs": [
    {
     "data": {
      "text/plain": [
       "array([3, 4])"
      ]
     },
     "execution_count": 6,
     "metadata": {},
     "output_type": "execute_result"
    }
   ],
   "source": [
    "x"
   ]
  },
  {
   "cell_type": "code",
   "execution_count": 7,
   "id": "fb5665b6",
   "metadata": {},
   "outputs": [
    {
     "data": {
      "text/plain": [
       "array([5, 2])"
      ]
     },
     "execution_count": 7,
     "metadata": {},
     "output_type": "execute_result"
    }
   ],
   "source": [
    "y"
   ]
  },
  {
   "cell_type": "code",
   "execution_count": 8,
   "id": "ac53538e",
   "metadata": {},
   "outputs": [
    {
     "data": {
      "image/png": "[encoded data removed]",
      "text/plain": [
       "<Figure size 1000x500 with 6 Axes>"
      ]
     },
     "metadata": {},
     "output_type": "display_data"
    }
   ],
   "source": [
    "horizontal_lines = np.array([1, 2, 3, 3.5, 4, 5])\n",
    "\n",
    "results = []\n",
    "fig, axes = plt.subplots(1,6,figsize=(10,5))\n",
    "for h_line, ax in zip(horizontal_lines, axes.flat):\n",
    "    # styling\n",
    "    axis_helper(ax, (0,6))\n",
    "    ax.set_title(str(h_line))\n",
    "    \n",
    "    # plot the data\n",
    "    ax.plot(x,y, 'ro')\n",
    "    \n",
    "    # plot the prediction line\n",
    "    ax.axhline(h_line, color='y') # ax coords; defaults to 100%    \n",
    "\n",
    "    # plot the errors\n",
    "    # the horizontal line *is* our prediction; renaming for clarity\n",
    "    predictions = h_line \n",
    "    ax.vlines(x, predictions, y)\n",
    "    \n",
    "    # calculate the error amounts and their sum-of-squares\n",
    "    errors = y - predictions\n",
    "    sse = np.dot(errors, errors)\n",
    "\n",
    "    \n",
    "    # put together some results in a tuple\n",
    "    results.append((predictions, \n",
    "                    errors, errors.sum(), \n",
    "                    sse, np.sqrt(sse)))"
   ]
  },
  {
   "cell_type": "code",
   "execution_count": 9,
   "id": "a3ed4a47",
   "metadata": {
    "scrolled": true
   },
   "outputs": [
    {
     "name": "stderr",
     "output_type": "stream",
     "text": [
      "/Users/markkim/Desktop/CSC412/notebooks/Week4/mlwpy.py:55: FutureWarning: In future versions `DataFrame.to_latex` is expected to utilise the base implementation of `Styler.to_latex` for formatting and rendering. The arguments signature may therefore change. It is recommended instead to use `DataFrame.style.to_latex` which also contains additional functionality.\n",
      "  return \"{\\centering\\n%s\\n\\medskip}\" % self.to_latex()\n"
     ]
    },
    {
     "data": {
      "text/html": [
       "<div>\n",
       "<style scoped>\n",
       "    .dataframe tbody tr th:only-of-type {\n",
       "        vertical-align: middle;\n",
       "    }\n",
       "\n",
       "    .dataframe tbody tr th {\n",
       "        vertical-align: top;\n",
       "    }\n",
       "\n",
       "    .dataframe thead th {\n",
       "        text-align: right;\n",
       "    }\n",
       "</style>\n",
       "<table border=\"1\" class=\"dataframe\">\n",
       "  <thead>\n",
       "    <tr style=\"text-align: right;\">\n",
       "      <th></th>\n",
       "      <th>Errors</th>\n",
       "      <th>Sum</th>\n",
       "      <th>SSE</th>\n",
       "      <th>Distance</th>\n",
       "    </tr>\n",
       "    <tr>\n",
       "      <th>Prediction</th>\n",
       "      <th></th>\n",
       "      <th></th>\n",
       "      <th></th>\n",
       "      <th></th>\n",
       "    </tr>\n",
       "  </thead>\n",
       "  <tbody>\n",
       "    <tr>\n",
       "      <th>1.0000</th>\n",
       "      <td>[4.0, 1.0]</td>\n",
       "      <td>5.0000</td>\n",
       "      <td>17.0000</td>\n",
       "      <td>4.1231</td>\n",
       "    </tr>\n",
       "    <tr>\n",
       "      <th>2.0000</th>\n",
       "      <td>[3.0, 0.0]</td>\n",
       "      <td>3.0000</td>\n",
       "      <td>9.0000</td>\n",
       "      <td>3.0000</td>\n",
       "    </tr>\n",
       "    <tr>\n",
       "      <th>3.0000</th>\n",
       "      <td>[2.0, -1.0]</td>\n",
       "      <td>1.0000</td>\n",
       "      <td>5.0000</td>\n",
       "      <td>2.2361</td>\n",
       "    </tr>\n",
       "    <tr>\n",
       "      <th>3.5000</th>\n",
       "      <td>[1.5, -1.5]</td>\n",
       "      <td>0.0000</td>\n",
       "      <td>4.5000</td>\n",
       "      <td>2.1213</td>\n",
       "    </tr>\n",
       "    <tr>\n",
       "      <th>4.0000</th>\n",
       "      <td>[1.0, -2.0]</td>\n",
       "      <td>-1.0000</td>\n",
       "      <td>5.0000</td>\n",
       "      <td>2.2361</td>\n",
       "    </tr>\n",
       "    <tr>\n",
       "      <th>5.0000</th>\n",
       "      <td>[0.0, -3.0]</td>\n",
       "      <td>-3.0000</td>\n",
       "      <td>9.0000</td>\n",
       "      <td>3.0000</td>\n",
       "    </tr>\n",
       "  </tbody>\n",
       "</table>\n",
       "</div>"
      ],
      "text/latex": [
       "{\\centering\n",
       "\\begin{tabular}{llrrr}\n",
       "\\toprule\n",
       "{} &       Errors &                  Sum &                  SSE &             Distance \\\\\n",
       "Prediction &              &                      &                      &                      \\\\\n",
       "\\midrule\n",
       "1.0000     &   [4.0, 1.0] &               5.0000 &              17.0000 &               4.1231 \\\\\n",
       "2.0000     &   [3.0, 0.0] &               3.0000 &               9.0000 &               3.0000 \\\\\n",
       "3.0000     &  [2.0, -1.0] &               1.0000 &               5.0000 &               2.2361 \\\\\n",
       "3.5000     &  [1.5, -1.5] &               0.0000 &               4.5000 &               2.1213 \\\\\n",
       "4.0000     &  [1.0, -2.0] &              -1.0000 &               5.0000 &               2.2361 \\\\\n",
       "5.0000     &  [0.0, -3.0] &              -3.0000 &               9.0000 &               3.0000 \\\\\n",
       "\\bottomrule\n",
       "\\end{tabular}\n",
       "\n",
       "\\medskip}"
      ],
      "text/plain": [
       "                 Errors                  Sum                  SSE  \\\n",
       "Prediction                                                          \n",
       "1.0000       [4.0, 1.0]               5.0000              17.0000   \n",
       "2.0000       [3.0, 0.0]               3.0000               9.0000   \n",
       "3.0000      [2.0, -1.0]               1.0000               5.0000   \n",
       "3.5000      [1.5, -1.5]               0.0000               4.5000   \n",
       "4.0000      [1.0, -2.0]              -1.0000               5.0000   \n",
       "5.0000      [0.0, -3.0]              -3.0000               9.0000   \n",
       "\n",
       "                       Distance  \n",
       "Prediction                       \n",
       "1.0000                   4.1231  \n",
       "2.0000                   3.0000  \n",
       "3.0000                   2.2361  \n",
       "3.5000                   2.1213  \n",
       "4.0000                   2.2361  \n",
       "5.0000                   3.0000  "
      ]
     },
     "metadata": {},
     "output_type": "display_data"
    }
   ],
   "source": [
    "col_labels = \"Prediction\", \"Errors\", \"Sum\", \"SSE\", \"Distance\"\n",
    "display(pd.DataFrame.from_records(results, \n",
    "                                  columns=col_labels, \n",
    "                                  index=\"Prediction\"))"
   ]
  },
  {
   "cell_type": "markdown",
   "id": "6eec3c30",
   "metadata": {},
   "source": [
    "# with tilted lines"
   ]
  },
  {
   "cell_type": "code",
   "execution_count": 10,
   "id": "696b002c",
   "metadata": {},
   "outputs": [],
   "source": [
    "def process(D, model, ax):\n",
    "    # make some useful abbreviations/names\n",
    "    # y is our \"actual\"\n",
    "    x, y = D[:,0], D[:,1] \n",
    "    m, b = model\n",
    "    \n",
    "    # styling\n",
    "    axis_helper(ax, (0,8))\n",
    "\n",
    "    # plot the data\n",
    "    ax.plot(x,y,'ro')\n",
    "\n",
    "    # plot the prediction line\n",
    "    helper_xs = np.array([0,8])\n",
    "    helper_line = m * helper_xs + b\n",
    "    ax.plot(helper_xs, helper_line, color='y')\n",
    "    \n",
    "    # plot the errors\n",
    "    predictions = m * x + b\n",
    "    ax.vlines(x, predictions, y)\n",
    "    \n",
    "    # calculate error amounts\n",
    "    errors = y - predictions\n",
    "    \n",
    "    # tuple up the results\n",
    "    sse = np.dot(errors, errors)\n",
    "    return (errors, errors.sum(), sse, np.sqrt(sse))\n",
    "     "
   ]
  },
  {
   "cell_type": "markdown",
   "id": "05d67dbc",
   "metadata": {},
   "source": [
    "# with several different prediction lines used"
   ]
  },
  {
   "cell_type": "code",
   "execution_count": 11,
   "id": "2cac478e",
   "metadata": {},
   "outputs": [
    {
     "name": "stderr",
     "output_type": "stream",
     "text": [
      "/Users/markkim/Desktop/CSC412/notebooks/Week4/mlwpy.py:55: FutureWarning: In future versions `DataFrame.to_latex` is expected to utilise the base implementation of `Styler.to_latex` for formatting and rendering. The arguments signature may therefore change. It is recommended instead to use `DataFrame.style.to_latex` which also contains additional functionality.\n",
      "  return \"{\\centering\\n%s\\n\\medskip}\" % self.to_latex()\n"
     ]
    },
    {
     "data": {
      "text/html": [
       "<div>\n",
       "<style scoped>\n",
       "    .dataframe tbody tr th:only-of-type {\n",
       "        vertical-align: middle;\n",
       "    }\n",
       "\n",
       "    .dataframe tbody tr th {\n",
       "        vertical-align: top;\n",
       "    }\n",
       "\n",
       "    .dataframe thead th {\n",
       "        text-align: right;\n",
       "    }\n",
       "</style>\n",
       "<table border=\"1\" class=\"dataframe\">\n",
       "  <thead>\n",
       "    <tr style=\"text-align: right;\">\n",
       "      <th></th>\n",
       "      <th>Raw Errors</th>\n",
       "      <th>Sum</th>\n",
       "      <th>SSE</th>\n",
       "      <th>TotDist</th>\n",
       "    </tr>\n",
       "  </thead>\n",
       "  <tbody>\n",
       "    <tr>\n",
       "      <th>0</th>\n",
       "      <td>[2, -2]</td>\n",
       "      <td>0</td>\n",
       "      <td>8</td>\n",
       "      <td>2.8284</td>\n",
       "    </tr>\n",
       "    <tr>\n",
       "      <th>1</th>\n",
       "      <td>[1, -3]</td>\n",
       "      <td>-2</td>\n",
       "      <td>10</td>\n",
       "      <td>3.1623</td>\n",
       "    </tr>\n",
       "    <tr>\n",
       "      <th>2</th>\n",
       "      <td>[0, -4]</td>\n",
       "      <td>-4</td>\n",
       "      <td>16</td>\n",
       "      <td>4.0000</td>\n",
       "    </tr>\n",
       "    <tr>\n",
       "      <th>3</th>\n",
       "      <td>[0, -2]</td>\n",
       "      <td>-2</td>\n",
       "      <td>4</td>\n",
       "      <td>2.0000</td>\n",
       "    </tr>\n",
       "    <tr>\n",
       "      <th>4</th>\n",
       "      <td>[0, 0]</td>\n",
       "      <td>0</td>\n",
       "      <td>0</td>\n",
       "      <td>0.0000</td>\n",
       "    </tr>\n",
       "  </tbody>\n",
       "</table>\n",
       "</div>"
      ],
      "text/latex": [
       "{\\centering\n",
       "\\begin{tabular}{llrrr}\n",
       "\\toprule\n",
       "{} & Raw Errors &  Sum &  SSE &              TotDist \\\\\n",
       "\\midrule\n",
       "0 &    [2, -2] &    0 &    8 &               2.8284 \\\\\n",
       "1 &    [1, -3] &   -2 &   10 &               3.1623 \\\\\n",
       "2 &    [0, -4] &   -4 &   16 &               4.0000 \\\\\n",
       "3 &    [0, -2] &   -2 &    4 &               2.0000 \\\\\n",
       "4 &     [0, 0] &    0 &    0 &               0.0000 \\\\\n",
       "\\bottomrule\n",
       "\\end{tabular}\n",
       "\n",
       "\\medskip}"
      ],
      "text/plain": [
       "  Raw Errors  Sum  SSE              TotDist\n",
       "0    [2, -2]    0    8               2.8284\n",
       "1    [1, -3]   -2   10               3.1623\n",
       "2    [0, -4]   -4   16               4.0000\n",
       "3    [0, -2]   -2    4               2.0000\n",
       "4     [0, 0]    0    0               0.0000"
      ]
     },
     "metadata": {},
     "output_type": "display_data"
    },
    {
     "data": {
      "image/png": "[encoded data removed]",
      "text/plain": [
       "<Figure size 1200x600 with 5 Axes>"
      ]
     },
     "metadata": {},
     "output_type": "display_data"
    }
   ],
   "source": [
    "# our data is very simple:  two (x,y) points\n",
    "D = np.array([[3,5],\n",
    "              [4,2]])\n",
    "\n",
    "#                      m   b  --> predictions = mx + b\n",
    "lines_mb = np.array([[ 1,  0],\n",
    "                     [ 1,  1],\n",
    "                     [ 1,  2],\n",
    "                     [-1,  8],\n",
    "                     [-3, 14]])\n",
    "\n",
    "col_labels = (\"Raw Errors\", \"Sum\", \"SSE\", \"TotDist\")\n",
    "results = []\n",
    "\n",
    "# note: plotting occurs in process()\n",
    "fig, axes = plt.subplots(1,5,figsize=(12,6))\n",
    "records = [process(D, mod, ax) for mod,ax in zip(lines_mb, axes.flat)]\n",
    "df = pd.DataFrame.from_records(records, columns=col_labels)\n",
    "display(df)"
   ]
  },
  {
   "cell_type": "markdown",
   "id": "2bd730be",
   "metadata": {},
   "source": [
    "# 4.3.3 Performing Linear Regression on Diabettes Data set"
   ]
  },
  {
   "cell_type": "code",
   "execution_count": 12,
   "id": "763106e8",
   "metadata": {},
   "outputs": [
    {
     "name": "stderr",
     "output_type": "stream",
     "text": [
      "/Users/markkim/Desktop/CSC412/notebooks/Week4/mlwpy.py:55: FutureWarning: In future versions `DataFrame.to_latex` is expected to utilise the base implementation of `Styler.to_latex` for formatting and rendering. The arguments signature may therefore change. It is recommended instead to use `DataFrame.style.to_latex` which also contains additional functionality.\n",
      "  return \"{\\centering\\n%s\\n\\medskip}\" % self.to_latex()\n"
     ]
    },
    {
     "data": {
      "text/html": [
       "<div>\n",
       "<style scoped>\n",
       "    .dataframe tbody tr th:only-of-type {\n",
       "        vertical-align: middle;\n",
       "    }\n",
       "\n",
       "    .dataframe tbody tr th {\n",
       "        vertical-align: top;\n",
       "    }\n",
       "\n",
       "    .dataframe thead th {\n",
       "        text-align: right;\n",
       "    }\n",
       "</style>\n",
       "<table border=\"1\" class=\"dataframe\">\n",
       "  <thead>\n",
       "    <tr style=\"text-align: right;\">\n",
       "      <th></th>\n",
       "      <th>age</th>\n",
       "      <th>sex</th>\n",
       "      <th>bmi</th>\n",
       "      <th>bp</th>\n",
       "      <th>s1</th>\n",
       "      <th>s2</th>\n",
       "      <th>s3</th>\n",
       "      <th>s4</th>\n",
       "      <th>s5</th>\n",
       "      <th>s6</th>\n",
       "      <th>target</th>\n",
       "    </tr>\n",
       "  </thead>\n",
       "  <tbody>\n",
       "    <tr>\n",
       "      <th>0</th>\n",
       "      <td>0.0381</td>\n",
       "      <td>0.0507</td>\n",
       "      <td>0.0617</td>\n",
       "      <td>0.0219</td>\n",
       "      <td>-0.0442</td>\n",
       "      <td>-0.0348</td>\n",
       "      <td>-0.0434</td>\n",
       "      <td>-0.0026</td>\n",
       "      <td>0.0199</td>\n",
       "      <td>-0.0176</td>\n",
       "      <td>151.0000</td>\n",
       "    </tr>\n",
       "    <tr>\n",
       "      <th>1</th>\n",
       "      <td>-0.0019</td>\n",
       "      <td>-0.0446</td>\n",
       "      <td>-0.0515</td>\n",
       "      <td>-0.0263</td>\n",
       "      <td>-0.0084</td>\n",
       "      <td>-0.0192</td>\n",
       "      <td>0.0744</td>\n",
       "      <td>-0.0395</td>\n",
       "      <td>-0.0683</td>\n",
       "      <td>-0.0922</td>\n",
       "      <td>75.0000</td>\n",
       "    </tr>\n",
       "    <tr>\n",
       "      <th>2</th>\n",
       "      <td>0.0853</td>\n",
       "      <td>0.0507</td>\n",
       "      <td>0.0445</td>\n",
       "      <td>-0.0057</td>\n",
       "      <td>-0.0456</td>\n",
       "      <td>-0.0342</td>\n",
       "      <td>-0.0324</td>\n",
       "      <td>-0.0026</td>\n",
       "      <td>0.0029</td>\n",
       "      <td>-0.0259</td>\n",
       "      <td>141.0000</td>\n",
       "    </tr>\n",
       "    <tr>\n",
       "      <th>3</th>\n",
       "      <td>-0.0891</td>\n",
       "      <td>-0.0446</td>\n",
       "      <td>-0.0116</td>\n",
       "      <td>-0.0367</td>\n",
       "      <td>0.0122</td>\n",
       "      <td>0.0250</td>\n",
       "      <td>-0.0360</td>\n",
       "      <td>0.0343</td>\n",
       "      <td>0.0227</td>\n",
       "      <td>-0.0094</td>\n",
       "      <td>206.0000</td>\n",
       "    </tr>\n",
       "    <tr>\n",
       "      <th>4</th>\n",
       "      <td>0.0054</td>\n",
       "      <td>-0.0446</td>\n",
       "      <td>-0.0364</td>\n",
       "      <td>0.0219</td>\n",
       "      <td>0.0039</td>\n",
       "      <td>0.0156</td>\n",
       "      <td>0.0081</td>\n",
       "      <td>-0.0026</td>\n",
       "      <td>-0.0320</td>\n",
       "      <td>-0.0466</td>\n",
       "      <td>135.0000</td>\n",
       "    </tr>\n",
       "  </tbody>\n",
       "</table>\n",
       "</div>"
      ],
      "text/latex": [
       "{\\centering\n",
       "\\begin{tabular}{lrrrrrrrrrrr}\n",
       "\\toprule\n",
       "{} &                  age &                  sex &                  bmi &                   bp &                   s1 &                   s2 &                   s3 &                   s4 &                   s5 &                   s6 &               target \\\\\n",
       "\\midrule\n",
       "0 &               0.0381 &               0.0507 &               0.0617 &               0.0219 &              -0.0442 &              -0.0348 &              -0.0434 &              -0.0026 &               0.0199 &              -0.0176 &             151.0000 \\\\\n",
       "1 &              -0.0019 &              -0.0446 &              -0.0515 &              -0.0263 &              -0.0084 &              -0.0192 &               0.0744 &              -0.0395 &              -0.0683 &              -0.0922 &              75.0000 \\\\\n",
       "2 &               0.0853 &               0.0507 &               0.0445 &              -0.0057 &              -0.0456 &              -0.0342 &              -0.0324 &              -0.0026 &               0.0029 &              -0.0259 &             141.0000 \\\\\n",
       "3 &              -0.0891 &              -0.0446 &              -0.0116 &              -0.0367 &               0.0122 &               0.0250 &              -0.0360 &               0.0343 &               0.0227 &              -0.0094 &             206.0000 \\\\\n",
       "4 &               0.0054 &              -0.0446 &              -0.0364 &               0.0219 &               0.0039 &               0.0156 &               0.0081 &              -0.0026 &              -0.0320 &              -0.0466 &             135.0000 \\\\\n",
       "\\bottomrule\n",
       "\\end{tabular}\n",
       "\n",
       "\\medskip}"
      ],
      "text/plain": [
       "                   age                  sex                  bmi  \\\n",
       "0               0.0381               0.0507               0.0617   \n",
       "1              -0.0019              -0.0446              -0.0515   \n",
       "2               0.0853               0.0507               0.0445   \n",
       "3              -0.0891              -0.0446              -0.0116   \n",
       "4               0.0054              -0.0446              -0.0364   \n",
       "\n",
       "                    bp                   s1                   s2  \\\n",
       "0               0.0219              -0.0442              -0.0348   \n",
       "1              -0.0263              -0.0084              -0.0192   \n",
       "2              -0.0057              -0.0456              -0.0342   \n",
       "3              -0.0367               0.0122               0.0250   \n",
       "4               0.0219               0.0039               0.0156   \n",
       "\n",
       "                    s3                   s4                   s5  \\\n",
       "0              -0.0434              -0.0026               0.0199   \n",
       "1               0.0744              -0.0395              -0.0683   \n",
       "2              -0.0324              -0.0026               0.0029   \n",
       "3              -0.0360               0.0343               0.0227   \n",
       "4               0.0081              -0.0026              -0.0320   \n",
       "\n",
       "                    s6               target  \n",
       "0              -0.0176             151.0000  \n",
       "1              -0.0922              75.0000  \n",
       "2              -0.0259             141.0000  \n",
       "3              -0.0094             206.0000  \n",
       "4              -0.0466             135.0000  "
      ]
     },
     "execution_count": 12,
     "metadata": {},
     "output_type": "execute_result"
    }
   ],
   "source": [
    "diabetes = datasets.load_diabetes()\n",
    "tts = skms.train_test_split(diabetes.data, diabetes.target, test_size=.25)\n",
    "(diabetes_train_ftrs, diabetes_test_ftrs,\n",
    "diabetes_train_tgt, diabetes_test_tgt) = tts\n",
    "\n",
    "diabetes_df = pd.DataFrame(diabetes.data, columns=diabetes.feature_names)\n",
    "diabetes_df['target'] = diabetes.target\n",
    "diabetes_df.head()"
   ]
  },
  {
   "cell_type": "code",
   "execution_count": 13,
   "id": "a32a678d",
   "metadata": {},
   "outputs": [],
   "source": [
    "lr = linear_model.LinearRegression()\n",
    "fit = lr.fit(diabetes_train_ftrs, diabetes_train_tgt)\n",
    "preds = fit.predict(diabetes_test_ftrs)"
   ]
  },
  {
   "cell_type": "code",
   "execution_count": 14,
   "id": "30ab098f",
   "metadata": {},
   "outputs": [
    {
     "data": {
      "text/plain": [
       "2848.3106508475057"
      ]
     },
     "execution_count": 14,
     "metadata": {},
     "output_type": "execute_result"
    }
   ],
   "source": [
    "metrics.mean_squared_error(diabetes_test_tgt, preds)\n",
    "# outputs average distance of error"
   ]
  },
  {
   "cell_type": "markdown",
   "id": "50a57b2c",
   "metadata": {},
   "source": [
    "# Optimization techniques"
   ]
  },
  {
   "cell_type": "code",
   "execution_count": 16,
   "id": "9b2030aa",
   "metadata": {},
   "outputs": [
    {
     "data": {
      "text/plain": [
       "8.6"
      ]
     },
     "execution_count": 16,
     "metadata": {},
     "output_type": "execute_result"
    }
   ],
   "source": [
    "# our data points\n",
    "tgt = np.array([3,5,8,12,15])\n",
    "tgt.mean()"
   ]
  },
  {
   "cell_type": "code",
   "execution_count": null,
   "id": "af558db0",
   "metadata": {},
   "outputs": [],
   "source": [
    "#Random Guess\n",
    "num_guesses = 10\n",
    "results = []\n",
    "\n",
    "for g in range(num_guesses):\n",
    "    guess = np.random.uniform(low=tgt.min(), high=tgt.max())\n",
    "    total_distance = np.sum( (tgt - guess)**2)\n",
    "    results.append( (total_distance, guess))\n",
    "best_guess = sorted(results)[0][1]\n",
    "best_guess"
   ]
  },
  {
   "cell_type": "code",
   "execution_count": 17,
   "id": "c9d42ad7",
   "metadata": {},
   "outputs": [
    {
     "name": "stdout",
     "output_type": "stream",
     "text": [
      "8.585335942001969\n"
     ]
    }
   ],
   "source": [
    "# Random Step\n",
    "num_steps = 100\n",
    "step_size = .05\n",
    "\n",
    "best_guess = np.random.uniform(low=tgt.min(), high=tgt.max())\n",
    "best_dist = np.sum( (tgt - best_guess)**2 )\n",
    "\n",
    "for s in range(num_steps):\n",
    "    new_guess = best_guess + (np.random.choice([+1,-1]) * step_size)\n",
    "    new_dist = np.sum(  (tgt - new_guess)**2 )\n",
    "    if new_dist < best_dist:\n",
    "        best_guess, best_dist = new_guess, new_dist\n",
    "print(best_guess)"
   ]
  },
  {
   "cell_type": "code",
   "execution_count": null,
   "id": "e3b1bc66",
   "metadata": {},
   "outputs": [],
   "source": [
    "new_guess"
   ]
  },
  {
   "cell_type": "code",
   "execution_count": null,
   "id": "700012af",
   "metadata": {},
   "outputs": [],
   "source": [
    "new_dist"
   ]
  },
  {
   "cell_type": "code",
   "execution_count": null,
   "id": "ea8f46d6",
   "metadata": {},
   "outputs": [],
   "source": [
    "new_guess"
   ]
  },
  {
   "cell_type": "code",
   "execution_count": 22,
   "id": "796b1822",
   "metadata": {},
   "outputs": [
    {
     "name": "stdout",
     "output_type": "stream",
     "text": [
      "start: 11.314684304303272\n"
     ]
    }
   ],
   "source": [
    "num_steps = 1000\n",
    "step_size = .02\n",
    "\n",
    "best_guess = np.random.uniform(low=tgt.min(), high=tgt.max())\n",
    "best_dist = np.sum( (tgt - best_guess)**2 )\n",
    "print(\"start:\", best_guess)"
   ]
  },
  {
   "cell_type": "code",
   "execution_count": 23,
   "id": "e74b0f7b",
   "metadata": {},
   "outputs": [
    {
     "name": "stdout",
     "output_type": "stream",
     "text": [
      " end: 8.59468430430333\n"
     ]
    }
   ],
   "source": [
    "for s in range(num_steps):\n",
    "    guesses = best_guess + (np.array([-1,1]) * step_size)\n",
    "    dists = np.sum( (tgt[:,np.newaxis] - guesses)**2, axis=0)\n",
    "    \n",
    "    better_idx = np.argmin(dists)  # return the index number of the minimum distance\n",
    "    \n",
    "    if dists[better_idx] > best_dist:\n",
    "        break\n",
    "    \n",
    "    best_guess = guesses[better_idx]\n",
    "    best_dist = dists[better_idx]\n",
    "print(\" end:\", best_guess)"
   ]
  },
  {
   "cell_type": "code",
   "execution_count": null,
   "id": "93b7c1d5",
   "metadata": {},
   "outputs": [],
   "source": [
    "dists"
   ]
  },
  {
   "cell_type": "code",
   "execution_count": null,
   "id": "ba3cf401",
   "metadata": {},
   "outputs": [],
   "source": []
  },
  {
   "cell_type": "code",
   "execution_count": null,
   "id": "afef9b52",
   "metadata": {},
   "outputs": [],
   "source": []
  }
 ],
 "metadata": {
  "kernelspec": {
   "display_name": "Python 3 (ipykernel)",
   "language": "python",
   "name": "python3"
  },
  "language_info": {
   "codemirror_mode": {
    "name": "ipython",
    "version": 3
   },
   "file_extension": ".py",
   "mimetype": "text/x-python",
   "name": "python",
   "nbconvert_exporter": "python",
   "pygments_lexer": "ipython3",
   "version": "3.9.15"
  }
 },
 "nbformat": 4,
 "nbformat_minor": 5
}
