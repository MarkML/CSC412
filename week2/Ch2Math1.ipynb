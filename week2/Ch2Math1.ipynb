{
 "cells": [
  {
   "cell_type": "markdown",
   "id": "7514d287",
   "metadata": {},
   "source": [
    "# 2.5. Linear Combinations, Weighted Sums, and Dot products"
   ]
  },
  {
   "cell_type": "code",
   "execution_count": 2,
   "id": "85e9db8c",
   "metadata": {},
   "outputs": [],
   "source": [
    "from mlwpy import * "
   ]
  },
  {
   "cell_type": "code",
   "execution_count": 3,
   "id": "25407b38",
   "metadata": {},
   "outputs": [
    {
     "data": {
      "text/plain": [
       "36.25"
      ]
     },
     "execution_count": 3,
     "metadata": {},
     "output_type": "execute_result"
    }
   ],
   "source": [
    "quantity = np.array([2,12,3])\n",
    "costs = np.array([12.5, .5, 1.75])\n",
    "np.sum(quantity * costs)  # element-wise multiplication"
   ]
  },
  {
   "cell_type": "code",
   "execution_count": 4,
   "id": "4b56fabd",
   "metadata": {},
   "outputs": [
    {
     "name": "stdout",
     "output_type": "stream",
     "text": [
      "36.25\n",
      "36.25\n",
      "36.25\n"
     ]
    }
   ],
   "source": [
    "# np.dot() can also do pair-wise multiplication, multiple ways:\n",
    "print(quantity.dot(costs),\n",
    "      np.dot(quantity, costs),\n",
    "      quantity @ costs,\n",
    "      \n",
    "      sep='\\n')"
   ]
  },
  {
   "cell_type": "markdown",
   "id": "1f6fcf5e",
   "metadata": {},
   "source": [
    "# different summation patterns\n",
    "### 2.51 The Expected Value of a random variable can also be expressed as a Weighted Average "
   ]
  },
  {
   "cell_type": "code",
   "execution_count": 5,
   "id": "e907b653",
   "metadata": {},
   "outputs": [
    {
     "data": {
      "text/plain": [
       "17.5"
      ]
     },
     "execution_count": 5,
     "metadata": {},
     "output_type": "execute_result"
    }
   ],
   "source": [
    "values = np.array([10, 20, 30])     # represent different outcomes \n",
    "weights = np.array([.5, .25, .25])  # represents the probabilities of those outcomes\n",
    "np.dot(weights, values)"
   ]
  },
  {
   "cell_type": "markdown",
   "id": "5d1c1055",
   "metadata": {},
   "source": [
    "### 2.5.2 a special sum-of-product is when both the quantity and value are the same\n",
    "### this is called Sum of Squares, each element multiplied by itself give the square of the original value"
   ]
  },
  {
   "cell_type": "code",
   "execution_count": 6,
   "id": "f81454d7",
   "metadata": {},
   "outputs": [
    {
     "name": "stdout",
     "output_type": "stream",
     "text": [
      "[25  9  4  1]\n",
      "39\n",
      "39\n"
     ]
    }
   ],
   "source": [
    "values = np.array([5, -3, 2, 1])\n",
    "squares = values * values \n",
    "print(squares,\n",
    "      np.sum(squares),\n",
    "      np.dot(values, values),\n",
    "     \n",
    "      sep='\\n')"
   ]
  },
  {
   "cell_type": "markdown",
   "id": "5ee9cc20",
   "metadata": {},
   "source": [
    "### 2.5.3 Sum of Squared Errors  \n",
    "error = predicted value - actual value\n",
    "if we square the error we eliminate positive and negative values from canceeling each other"
   ]
  },
  {
   "cell_type": "code",
   "execution_count": null,
   "id": "46198c90",
   "metadata": {
    "scrolled": true
   },
   "outputs": [],
   "source": [
    "errors = np.array([5, -5, 3.2, -1.1])\n",
    "display(pd.DataFrame({'errors': errors,\n",
    "                     'squared': errors * errors }))"
   ]
  },
  {
   "cell_type": "code",
   "execution_count": null,
   "id": "097c5c9d",
   "metadata": {},
   "outputs": [],
   "source": [
    "# resembles the dot product\n",
    "np.dot(errors,errors)"
   ]
  },
  {
   "cell_type": "markdown",
   "id": "e529174e",
   "metadata": {},
   "source": [
    "### pythagorean theorem says c^2 = a^2 + b^2, which is same as\n",
    "###                                   distance^2 = len1^2 + len2^2  which can be written as a summation\n",
    "### The takeaway is that an 'error' is a also distance measure between an actual and a predictd value"
   ]
  },
  {
   "cell_type": "code",
   "execution_count": null,
   "id": "5548a10b",
   "metadata": {},
   "outputs": [],
   "source": []
  }
 ],
 "metadata": {
  "kernelspec": {
   "display_name": "Python 3 (ipykernel)",
   "language": "python",
   "name": "python3"
  },
  "language_info": {
   "codemirror_mode": {
    "name": "ipython",
    "version": 3
   },
   "file_extension": ".py",
   "mimetype": "text/x-python",
   "name": "python",
   "nbconvert_exporter": "python",
   "pygments_lexer": "ipython3",
   "version": "3.9.15"
  }
 },
 "nbformat": 4,
 "nbformat_minor": 5
}
